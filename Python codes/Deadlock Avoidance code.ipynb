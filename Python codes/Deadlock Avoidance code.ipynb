{
 "cells": [
  {
   "cell_type": "code",
   "execution_count": 1,
   "id": "242be670",
   "metadata": {},
   "outputs": [
    {
     "name": "stdout",
     "output_type": "stream",
     "text": [
      "Following is the SAFE Sequence\n",
      " P1 -> P3 -> P4 -> P0 -> P2\n"
     ]
    }
   ],
   "source": [
    "# Driver code:\n",
    "if __name__==\"__main__\":\n",
    "     \n",
    "    # P0, P1, P2, P3, P4 are the Process names here\n",
    "    n = 5 # Number of processes\n",
    "    m = 3 # Number of resources\n",
    "     \n",
    "    # Allocation Matrix\n",
    "    alloc = [[0, 1, 0 ],[ 2, 0, 0 ],\n",
    "            [3, 0, 2 ],[2, 1, 1] ,[ 0, 0, 2]]\n",
    "     \n",
    "    # MAX Matrix\n",
    "    max = [[7, 5, 3 ],[3, 2, 2 ],\n",
    "            [ 9, 0, 2 ],[2, 2, 2],[4, 3, 3]]\n",
    "     \n",
    "    avail = [3, 3, 2] # Available Resources\n",
    "     \n",
    "    f = [0]*n\n",
    "    ans = [0]*n\n",
    "    ind = 0\n",
    "    for k in range(n):\n",
    "        f[k] = 0\n",
    "         \n",
    "    need = [[ 0 for i in range(m)]for i in range(n)]\n",
    "    for i in range(n):\n",
    "        for j in range(m):\n",
    "            need[i][j] = max[i][j] - alloc[i][j]\n",
    "    y = 0\n",
    "    for k in range(5):\n",
    "        for i in range(n):\n",
    "            if (f[i] == 0):\n",
    "                flag = 0\n",
    "                for j in range(m):\n",
    "                    if (need[i][j] > avail[j]):\n",
    "                        flag = 1\n",
    "                        break\n",
    "                 \n",
    "                if (flag == 0):\n",
    "                    ans[ind] = i\n",
    "                    ind += 1\n",
    "                    for y in range(m):\n",
    "                        avail[y] += alloc[i][y]\n",
    "                    f[i] = 1\n",
    "                     \n",
    "    print(\"Following is the SAFE Sequence\")\n",
    "     \n",
    "    for i in range(n - 1):\n",
    "        print(\" P\", ans[i], \" ->\", sep=\"\", end=\"\")\n",
    "    print(\" P\", ans[n - 1], sep=\"\")"
   ]
  },
  {
   "cell_type": "code",
   "execution_count": 10,
   "id": "ddcc5fca",
   "metadata": {},
   "outputs": [
    {
     "name": "stdout",
     "output_type": "stream",
     "text": [
      "number of processes : 2\n",
      "number of resources : 4\n",
      "maximum resources : 1 4 2 1\n",
      "\n",
      "-- allocated resources for each process --\n",
      "process 1 : 1 4 2 1 \n",
      "process 2 : 2 4 2 1 \n",
      "\n",
      "-- maximum resources for each process --\n",
      "process 1 : 1 4 2 2\n",
      "process 2 : 2 3 1 1\n",
      "\n",
      "total allocated resources : [3, 8, 4, 2]\n",
      "total available resources : [-2, -4, -2, -1]\n",
      "\n",
      "the processes are in an unsafe state.\n"
     ]
    }
   ],
   "source": [
    "def main():\n",
    "    processes = int(input(\"number of processes : \"))\n",
    "    resources = int(input(\"number of resources : \"))\n",
    "    max_resources = [int(i) for i in input(\"maximum resources : \").split()]\n",
    "\n",
    "    print(\"\\n-- allocated resources for each process --\")\n",
    "    currently_allocated = [[int(i) for i in input(f\"process {j + 1} : \").split()] for j in range(processes)]\n",
    "\n",
    "    print(\"\\n-- maximum resources for each process --\")\n",
    "    max_need = [[int(i) for i in input(f\"process {j + 1} : \").split()] for j in range(processes)]\n",
    "\n",
    "    allocated = [0] * resources\n",
    "    for i in range(processes):\n",
    "        for j in range(resources):\n",
    "            allocated[j] += currently_allocated[i][j]\n",
    "    print(f\"\\ntotal allocated resources : {allocated}\")\n",
    "\n",
    "    available = [max_resources[i] - allocated[i] for i in range(resources)]\n",
    "    print(f\"total available resources : {available}\\n\")\n",
    "\n",
    "    running = [True] * processes\n",
    "    count = processes\n",
    "    while count != 0:\n",
    "        safe = False\n",
    "        for i in range(processes):\n",
    "            if running[i]:\n",
    "                executing = True\n",
    "                for j in range(resources):\n",
    "                    if max_need[i][j] - currently_allocated[i][j] > available[j]:\n",
    "                        executing = False\n",
    "                        break\n",
    "                if executing:\n",
    "                    print(f\"process {i + 1} is executing\")\n",
    "                    running[i] = False\n",
    "                    count -= 1\n",
    "                    safe = True\n",
    "                    for j in range(resources):\n",
    "                        available[j] += currently_allocated[i][j]\n",
    "                    break\n",
    "        if not safe:\n",
    "            print(\"the processes are in an unsafe state.\")\n",
    "            break\n",
    "\n",
    "        print(f\"the process is in a safe state.\\navailable resources : {available}\\n\")\n",
    "\n",
    "\n",
    "if __name__ == '__main__':\n",
    "    main()"
   ]
  },
  {
   "cell_type": "code",
   "execution_count": null,
   "id": "89ea04ab",
   "metadata": {},
   "outputs": [],
   "source": []
  },
  {
   "cell_type": "code",
   "execution_count": null,
   "id": "4600b598",
   "metadata": {},
   "outputs": [],
   "source": []
  }
 ],
 "metadata": {
  "kernelspec": {
   "display_name": "Python 3 (ipykernel)",
   "language": "python",
   "name": "python3"
  },
  "language_info": {
   "codemirror_mode": {
    "name": "ipython",
    "version": 3
   },
   "file_extension": ".py",
   "mimetype": "text/x-python",
   "name": "python",
   "nbconvert_exporter": "python",
   "pygments_lexer": "ipython3",
   "version": "3.10.7"
  }
 },
 "nbformat": 4,
 "nbformat_minor": 5
}
