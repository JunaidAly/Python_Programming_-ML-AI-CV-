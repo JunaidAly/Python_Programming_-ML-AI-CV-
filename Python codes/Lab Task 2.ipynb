{
 "cells": [
  {
   "cell_type": "code",
   "execution_count": 2,
   "id": "84395453",
   "metadata": {},
   "outputs": [
    {
     "name": "stdout",
     "output_type": "stream",
     "text": [
      "Enter the Objects of the 1st list\n",
      "Enter the values34\n",
      "Enter the values54\n",
      "Enter the values34\n",
      "Enter the values56\n",
      "Enter the values34\n",
      "Enter the Objects of 2nd list\n",
      "Enter the values67\n",
      "Enter the values54\n",
      "Enter the values34\n",
      "Enter the values65\n",
      "Enter the values45\n",
      "[34, 34, 34, 34, 45, 54, 54, 56, 65, 67]\n"
     ]
    }
   ],
   "source": [
    "list1=[]\n",
    "print(\"Enter the Objects of the 1st list\")\n",
    "for i in range(5):\n",
    "    val=input(\"Enter the values\")\n",
    "    n=int(val)\n",
    "    list1.append(n)\n",
    "list2=[]\n",
    "print(\"Enter the Objects of 2nd list\")\n",
    "for i in range(5):\n",
    "    val=input(\"Enter the values\")\n",
    "    n=int(val)\n",
    "    list2.append(n)\n",
    "\n",
    "list3=list1+list2\n",
    "list3.sort()\n",
    "print(list3)\n"
   ]
  },
  {
   "cell_type": "code",
   "execution_count": 1,
   "id": "ce69ff98",
   "metadata": {},
   "outputs": [
    {
     "name": "stdout",
     "output_type": "stream",
     "text": [
      "Enter the Objects of the 1st list\n",
      "Enter the values43\n",
      "Enter the values54\n",
      "Enter the values65\n",
      "Enter the values322\n",
      "Enter the values54\n",
      "Enter the Objects of 2nd list\n",
      "Enter the values56\n",
      "Enter the values43\n",
      "Enter the values76\n",
      "Enter the values78\n",
      "Enter the values56\n",
      "Smallest number from the list is: 43\n",
      "Largest number from the list is: 322\n"
     ]
    }
   ],
   "source": [
    "list1=[]\n",
    "print(\"Enter the Objects of the 1st list\")\n",
    "for i in range(5):\n",
    "    val=input(\"Enter the values\")\n",
    "    n=int(val)\n",
    "    list1.append(n)\n",
    "list2=[]\n",
    "print(\"Enter the Objects of 2nd list\")\n",
    "for i in range(5):\n",
    "    val=input(\"Enter the values\")\n",
    "    n=int(val)\n",
    "    list2.append(n)\n",
    "\n",
    "list3=list1+list2\n",
    "print(\"Smallest number from the list is:\",min(list3))\n",
    "print(\"Largest number from the list is:\",max(list3))"
   ]
  },
  {
   "cell_type": "code",
   "execution_count": 2,
   "id": "fa701620",
   "metadata": {},
   "outputs": [
    {
     "name": "stdout",
     "output_type": "stream",
     "text": [
      "Welcome to the Birthday game ! We have the birthdays to:\n",
      "Albert Einstein\n",
      "Bill Gates\n",
      "Steve Jobs\n",
      "\n",
      "Who's birthday do you want to look up?Albert Einstein\n",
      "The birthday of Albert Einstein is: \n",
      "14/3/1889\n"
     ]
    }
   ],
   "source": [
    "import time\n",
    "Birthdays ={\n",
    "    \"Albert Einstein\": \"14/3/1889\",\n",
    "    \"Bill Gates\": \"28/10/1955\",\n",
    "    \"Steve Jobs\": \"24/2/1955\",\n",
    "}\n",
    "print(\"Welcome to the Birthday game ! We have the birthdays to:\")\n",
    "time.sleep(1)\n",
    "for x in Birthdays:\n",
    "    print(x)\n",
    "    time.sleep(0.7)\n",
    "choice= input(\"\\nWho's birthday do you want to look up?\")\n",
    "\n",
    "if choice in Birthdays:\n",
    "    print(\"The birthday of {} is: \".format(choice))\n",
    "    print(Birthdays[choice])"
   ]
  },
  {
   "cell_type": "code",
   "execution_count": 3,
   "id": "1712e904",
   "metadata": {},
   "outputs": [
    {
     "name": "stdout",
     "output_type": "stream",
     "text": [
      "{'name': 'Brad', 'salary': 8000}\n"
     ]
    }
   ],
   "source": [
    "sample_dict = {\n",
    "    'emp1': {'name': 'Jhon', 'salary': 7500},\n",
    "    'emp2': {'name': 'Emma', 'salary': 8000},\n",
    "    'emp3': {'name': 'Brad', 'salary': 500}\n",
    "}\n",
    "sample_dict['emp3']['salary'] = 8000\n",
    "print(sample_dict['emp3'])"
   ]
  },
  {
   "cell_type": "code",
   "execution_count": null,
   "id": "a8f34a2c",
   "metadata": {},
   "outputs": [],
   "source": []
  }
 ],
 "metadata": {
  "kernelspec": {
   "display_name": "Python 3 (ipykernel)",
   "language": "python",
   "name": "python3"
  },
  "language_info": {
   "codemirror_mode": {
    "name": "ipython",
    "version": 3
   },
   "file_extension": ".py",
   "mimetype": "text/x-python",
   "name": "python",
   "nbconvert_exporter": "python",
   "pygments_lexer": "ipython3",
   "version": "3.9.12"
  }
 },
 "nbformat": 4,
 "nbformat_minor": 5
}
