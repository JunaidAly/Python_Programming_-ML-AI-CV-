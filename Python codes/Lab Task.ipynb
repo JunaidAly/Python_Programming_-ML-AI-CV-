{
 "cells": [
  {
   "cell_type": "code",
   "execution_count": 1,
   "id": "224d9b81-283b-4060-a9c8-d66fac0ae161",
   "metadata": {},
   "outputs": [
    {
     "name": "stdin",
     "output_type": "stream",
     "text": [
      "Enter a Number 123\n"
     ]
    },
    {
     "name": "stdout",
     "output_type": "stream",
     "text": [
      "321\n"
     ]
    }
   ],
   "source": [
    "# Python program to reverse a number\n",
    "\n",
    "n = int(input(\"Enter a Number\"))\n",
    "\n",
    "num_str=str(n)\n",
    "\n",
    "rev_num=''\n",
    "\n",
    "for i in range(0,len(num_str)):\n",
    "    rev_num=num_str[i]+rev_num\n",
    "print(rev_num)"
   ]
  },
  {
   "cell_type": "code",
   "execution_count": 2,
   "id": "2ddc0294-2e30-4429-aa5d-94dc3458667f",
   "metadata": {},
   "outputs": [
    {
     "name": "stdin",
     "output_type": "stream",
     "text": [
      "Enter the Starting of the range: 3\n",
      "Enter the Ending of the range: 4\n"
     ]
    },
    {
     "name": "stdout",
     "output_type": "stream",
     "text": [
      "Original Number List: [3]\n",
      "Even Numbers List: []\n",
      "Odd Numbers List: [3]\n"
     ]
    }
   ],
   "source": [
    "num_list=[]\n",
    "n=int(input(\"Enter the Starting of the range:\"))\n",
    "k=int(input(\"Enter the Ending of the range:\"))\n",
    "for i in range(n,k):\n",
    "  num_list.append(i)\n",
    "print(\"Original Number List:\", num_list)\n",
    "even_list=[]\n",
    "odd_list=[]\n",
    "for i in range(len(num_list)):\n",
    "  if(num_list[i]%2==0):\n",
    "    even_list.append(num_list[i])\n",
    "  else:\n",
    "    odd_list.append(num_list[i])\n",
    "print(\"Even Numbers List:\", even_list)\n",
    "print(\"Odd Numbers List:\", odd_list)"
   ]
  },
  {
   "cell_type": "code",
   "execution_count": 3,
   "id": "417afe36-2ace-4485-9d52-261393bee2af",
   "metadata": {},
   "outputs": [
    {
     "name": "stdin",
     "output_type": "stream",
     "text": [
      "Enter a 1st Number 0\n",
      "Enter a 2nd Number 1\n"
     ]
    },
    {
     "name": "stdout",
     "output_type": "stream",
     "text": [
      "34\n"
     ]
    }
   ],
   "source": [
    "def fibonacci(n):\n",
    "    a = int(input(\"Enter a 1st Number\"))\n",
    "    b = int(input(\"Enter a 2nd Number\"))\n",
    "    if n < 0:\n",
    "        print(\"Incorrect input\")\n",
    "    elif n == 0:\n",
    "        return a\n",
    "    elif n == 1:\n",
    "        return b\n",
    "    else:\n",
    "        for i in range(2,n+1):\n",
    "            c = a + b\n",
    "            a = b\n",
    "            b = c\n",
    "        return b\n",
    "\n",
    "\n",
    "print(fibonacci(9))"
   ]
  },
  {
   "cell_type": "code",
   "execution_count": 4,
   "id": "c9a80418-9af9-4169-bbcd-91ec76e910df",
   "metadata": {},
   "outputs": [
    {
     "name": "stdout",
     "output_type": "stream",
     "text": [
      "Enter Marks Obtained in 5 Subjects: \n"
     ]
    },
    {
     "name": "stdin",
     "output_type": "stream",
     "text": [
      " 90\n",
      " 70\n",
      " 90\n",
      " 90\n",
      " 90\n"
     ]
    },
    {
     "name": "stdout",
     "output_type": "stream",
     "text": [
      "Your Grade is A2\n"
     ]
    }
   ],
   "source": [
    "print(\"Enter Marks Obtained in 5 Subjects: \")\n",
    "markOne = int(input())\n",
    "markTwo = int(input())\n",
    "markThree = int(input())\n",
    "markFour = int(input())\n",
    "markFive = int(input())\n",
    "\n",
    "tot = markOne+markTwo+markThree+markFour+markFive\n",
    "avg = tot/5\n",
    "\n",
    "if avg>=91 and avg<=100:\n",
    "    print(\"Your Grade is A1\")\n",
    "elif avg>=81 and avg<91:\n",
    "    print(\"Your Grade is A2\")\n",
    "elif avg>=71 and avg<81:\n",
    "    print(\"Your Grade is B1\")\n",
    "elif avg>=61 and avg<71:\n",
    "    print(\"Your Grade is B2\")\n",
    "elif avg>=51 and avg<61:\n",
    "    print(\"Your Grade is C1\")\n",
    "elif avg>=41 and avg<51:\n",
    "    print(\"Your Grade is C2\")\n",
    "elif avg>=33 and avg<41:\n",
    "    print(\"Your Grade is D\")\n",
    "elif avg>=21 and avg<33:\n",
    "    print(\"Your Grade is E1\")\n",
    "elif avg>=0 and avg<21:\n",
    "    print(\"Your Grade is E2\")\n",
    "else:\n",
    "    print(\"Invalid Input!\")\n"
   ]
  },
  {
   "cell_type": "code",
   "execution_count": 5,
   "id": "8a4aee0a-52f0-471c-be7a-0f1eee3bcc42",
   "metadata": {},
   "outputs": [
    {
     "name": "stdin",
     "output_type": "stream",
     "text": [
      "Enter a number:  4\n"
     ]
    },
    {
     "name": "stdout",
     "output_type": "stream",
     "text": [
      "The factorial of 4 is 24\n"
     ]
    }
   ],
   "source": [
    "num = int(input(\"Enter a number: \"))\n",
    "factorial = 1\n",
    "if num < 0:\n",
    "   print(\" Factorial does not exist for negative numbers\")\n",
    "elif num == 0:\n",
    "   print(\"The factorial of 0 is 1\")\n",
    "else:\n",
    "   for i in range(1,num + 1):\n",
    "       factorial = factorial*i\n",
    "   print(\"The factorial of\",num,\"is\",factorial)   "
   ]
  },
  {
   "cell_type": "code",
   "execution_count": null,
   "id": "09af8809-c544-46df-b765-bb522602795a",
   "metadata": {},
   "outputs": [],
   "source": []
  }
 ],
 "metadata": {
  "kernelspec": {
   "display_name": "Python 3 (ipykernel)",
   "language": "python",
   "name": "python3"
  },
  "language_info": {
   "codemirror_mode": {
    "name": "ipython",
    "version": 3
   },
   "file_extension": ".py",
   "mimetype": "text/x-python",
   "name": "python",
   "nbconvert_exporter": "python",
   "pygments_lexer": "ipython3",
   "version": "3.10.7"
  }
 },
 "nbformat": 4,
 "nbformat_minor": 5
}
